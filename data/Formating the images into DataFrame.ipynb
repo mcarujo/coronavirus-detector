{
 "cells": [
  {
   "cell_type": "code",
   "execution_count": 1,
   "metadata": {},
   "outputs": [],
   "source": [
    "import os\n",
    "import pandas as pd"
   ]
  },
  {
   "cell_type": "code",
   "execution_count": 2,
   "metadata": {},
   "outputs": [
    {
     "data": {
      "application/javascript": [
       "\n",
       "            setTimeout(function() {\n",
       "                var nbb_cell_id = 2;\n",
       "                var nbb_unformatted_code = \"%load_ext nb_black\";\n",
       "                var nbb_formatted_code = \"%load_ext nb_black\";\n",
       "                var nbb_cells = Jupyter.notebook.get_cells();\n",
       "                for (var i = 0; i < nbb_cells.length; ++i) {\n",
       "                    if (nbb_cells[i].input_prompt_number == nbb_cell_id) {\n",
       "                        if (nbb_cells[i].get_text() == nbb_unformatted_code) {\n",
       "                             nbb_cells[i].set_text(nbb_formatted_code);\n",
       "                        }\n",
       "                        break;\n",
       "                    }\n",
       "                }\n",
       "            }, 500);\n",
       "            "
      ],
      "text/plain": [
       "<IPython.core.display.Javascript object>"
      ]
     },
     "metadata": {},
     "output_type": "display_data"
    }
   ],
   "source": [
    "%load_ext nb_black"
   ]
  },
  {
   "cell_type": "markdown",
   "metadata": {},
   "source": [
    "# Paths\n",
    "\n",
    "Define all paths for images in a UNIX evironment..."
   ]
  },
  {
   "cell_type": "code",
   "execution_count": 3,
   "metadata": {},
   "outputs": [
    {
     "data": {
      "application/javascript": [
       "\n",
       "            setTimeout(function() {\n",
       "                var nbb_cell_id = 3;\n",
       "                var nbb_unformatted_code = \"path_train_normal = \\\"train/NORMAL/\\\"\\npath_train_pneu = \\\"train/PNEUMONIA/\\\"\\n\\npath_test_normal = \\\"test/NORMAL/\\\"\\npath_test_pneu = \\\"test/PNEUMONIA/\\\"\\n\\npath_val_normal = \\\"val/NORMAL/\\\"\\npath_val_pneu = \\\"val/PNEUMONIA/\\\"\";\n",
       "                var nbb_formatted_code = \"path_train_normal = \\\"train/NORMAL/\\\"\\npath_train_pneu = \\\"train/PNEUMONIA/\\\"\\n\\npath_test_normal = \\\"test/NORMAL/\\\"\\npath_test_pneu = \\\"test/PNEUMONIA/\\\"\\n\\npath_val_normal = \\\"val/NORMAL/\\\"\\npath_val_pneu = \\\"val/PNEUMONIA/\\\"\";\n",
       "                var nbb_cells = Jupyter.notebook.get_cells();\n",
       "                for (var i = 0; i < nbb_cells.length; ++i) {\n",
       "                    if (nbb_cells[i].input_prompt_number == nbb_cell_id) {\n",
       "                        if (nbb_cells[i].get_text() == nbb_unformatted_code) {\n",
       "                             nbb_cells[i].set_text(nbb_formatted_code);\n",
       "                        }\n",
       "                        break;\n",
       "                    }\n",
       "                }\n",
       "            }, 500);\n",
       "            "
      ],
      "text/plain": [
       "<IPython.core.display.Javascript object>"
      ]
     },
     "metadata": {},
     "output_type": "display_data"
    }
   ],
   "source": [
    "path_train_normal = \"train/NORMAL/\"\n",
    "path_train_pneu = \"train/PNEUMONIA/\"\n",
    "\n",
    "path_test_normal = \"test/NORMAL/\"\n",
    "path_test_pneu = \"test/PNEUMONIA/\"\n",
    "\n",
    "path_val_normal = \"val/NORMAL/\"\n",
    "path_val_pneu = \"val/PNEUMONIA/\""
   ]
  },
  {
   "cell_type": "markdown",
   "metadata": {},
   "source": [
    "# Creating auxiliary function"
   ]
  },
  {
   "cell_type": "code",
   "execution_count": 4,
   "metadata": {},
   "outputs": [
    {
     "data": {
      "application/javascript": [
       "\n",
       "            setTimeout(function() {\n",
       "                var nbb_cell_id = 4;\n",
       "                var nbb_unformatted_code = \"def creat_dataframe(base_path, kind, flag):\\n    train_normal_imgs = os.listdir(base_path)\\n    aux = pd.DataFrame(train_normal_imgs)\\n    aux.columns = [\\\"image_name\\\"]\\n    aux[\\\"full_path\\\"] = \\\"data\\\" + \\\"/\\\" + base_path + aux.image_name\\n    aux[\\\"kind\\\"] = kind\\n    aux[\\\"flag\\\"] = flag\\n    return aux\";\n",
       "                var nbb_formatted_code = \"def creat_dataframe(base_path, kind, flag):\\n    train_normal_imgs = os.listdir(base_path)\\n    aux = pd.DataFrame(train_normal_imgs)\\n    aux.columns = [\\\"image_name\\\"]\\n    aux[\\\"full_path\\\"] = \\\"data\\\" + \\\"/\\\" + base_path + aux.image_name\\n    aux[\\\"kind\\\"] = kind\\n    aux[\\\"flag\\\"] = flag\\n    return aux\";\n",
       "                var nbb_cells = Jupyter.notebook.get_cells();\n",
       "                for (var i = 0; i < nbb_cells.length; ++i) {\n",
       "                    if (nbb_cells[i].input_prompt_number == nbb_cell_id) {\n",
       "                        if (nbb_cells[i].get_text() == nbb_unformatted_code) {\n",
       "                             nbb_cells[i].set_text(nbb_formatted_code);\n",
       "                        }\n",
       "                        break;\n",
       "                    }\n",
       "                }\n",
       "            }, 500);\n",
       "            "
      ],
      "text/plain": [
       "<IPython.core.display.Javascript object>"
      ]
     },
     "metadata": {},
     "output_type": "display_data"
    }
   ],
   "source": [
    "def creat_dataframe(base_path, kind, flag):\n",
    "    train_normal_imgs = os.listdir(base_path)\n",
    "    aux = pd.DataFrame(train_normal_imgs)\n",
    "    aux.columns = [\"image_name\"]\n",
    "    aux[\"full_path\"] = \"data\" + \"/\" + base_path + aux.image_name\n",
    "    aux[\"kind\"] = kind\n",
    "    aux[\"flag\"] = flag\n",
    "    return aux"
   ]
  },
  {
   "cell_type": "markdown",
   "metadata": {},
   "source": [
    "# Grid with all options"
   ]
  },
  {
   "cell_type": "code",
   "execution_count": 5,
   "metadata": {},
   "outputs": [
    {
     "data": {
      "application/javascript": [
       "\n",
       "            setTimeout(function() {\n",
       "                var nbb_cell_id = 5;\n",
       "                var nbb_unformatted_code = \"grid = [\\n    (path_train_normal, \\\"train\\\", 0),\\n    (path_train_pneu, \\\"train\\\", 1),\\n    (path_test_normal, \\\"test\\\", 0),\\n    (path_test_pneu, \\\"test\\\", 1),\\n    (path_val_normal, \\\"val\\\", 0),\\n    (path_val_pneu, \\\"val\\\", 1),\\n]\";\n",
       "                var nbb_formatted_code = \"grid = [\\n    (path_train_normal, \\\"train\\\", 0),\\n    (path_train_pneu, \\\"train\\\", 1),\\n    (path_test_normal, \\\"test\\\", 0),\\n    (path_test_pneu, \\\"test\\\", 1),\\n    (path_val_normal, \\\"val\\\", 0),\\n    (path_val_pneu, \\\"val\\\", 1),\\n]\";\n",
       "                var nbb_cells = Jupyter.notebook.get_cells();\n",
       "                for (var i = 0; i < nbb_cells.length; ++i) {\n",
       "                    if (nbb_cells[i].input_prompt_number == nbb_cell_id) {\n",
       "                        if (nbb_cells[i].get_text() == nbb_unformatted_code) {\n",
       "                             nbb_cells[i].set_text(nbb_formatted_code);\n",
       "                        }\n",
       "                        break;\n",
       "                    }\n",
       "                }\n",
       "            }, 500);\n",
       "            "
      ],
      "text/plain": [
       "<IPython.core.display.Javascript object>"
      ]
     },
     "metadata": {},
     "output_type": "display_data"
    }
   ],
   "source": [
    "grid = [\n",
    "    (path_train_normal, \"train\", 0),\n",
    "    (path_train_pneu, \"train\", 1),\n",
    "    (path_test_normal, \"test\", 0),\n",
    "    (path_test_pneu, \"test\", 1),\n",
    "    (path_val_normal, \"val\", 0),\n",
    "    (path_val_pneu, \"val\", 1),\n",
    "]"
   ]
  },
  {
   "cell_type": "markdown",
   "metadata": {},
   "source": [
    "# Creating DataFrame"
   ]
  },
  {
   "cell_type": "code",
   "execution_count": 6,
   "metadata": {},
   "outputs": [
    {
     "data": {
      "text/html": [
       "<div>\n",
       "<style scoped>\n",
       "    .dataframe tbody tr th:only-of-type {\n",
       "        vertical-align: middle;\n",
       "    }\n",
       "\n",
       "    .dataframe tbody tr th {\n",
       "        vertical-align: top;\n",
       "    }\n",
       "\n",
       "    .dataframe thead th {\n",
       "        text-align: right;\n",
       "    }\n",
       "</style>\n",
       "<table border=\"1\" class=\"dataframe\">\n",
       "  <thead>\n",
       "    <tr style=\"text-align: right;\">\n",
       "      <th></th>\n",
       "      <th>image_name</th>\n",
       "      <th>full_path</th>\n",
       "      <th>kind</th>\n",
       "      <th>flag</th>\n",
       "    </tr>\n",
       "  </thead>\n",
       "  <tbody>\n",
       "    <tr>\n",
       "      <th>0</th>\n",
       "      <td>IM-0115-0001.jpeg</td>\n",
       "      <td>data/train/NORMAL/IM-0115-0001.jpeg</td>\n",
       "      <td>train</td>\n",
       "      <td>0</td>\n",
       "    </tr>\n",
       "    <tr>\n",
       "      <th>1</th>\n",
       "      <td>IM-0117-0001.jpeg</td>\n",
       "      <td>data/train/NORMAL/IM-0117-0001.jpeg</td>\n",
       "      <td>train</td>\n",
       "      <td>0</td>\n",
       "    </tr>\n",
       "    <tr>\n",
       "      <th>2</th>\n",
       "      <td>IM-0119-0001.jpeg</td>\n",
       "      <td>data/train/NORMAL/IM-0119-0001.jpeg</td>\n",
       "      <td>train</td>\n",
       "      <td>0</td>\n",
       "    </tr>\n",
       "    <tr>\n",
       "      <th>3</th>\n",
       "      <td>IM-0122-0001.jpeg</td>\n",
       "      <td>data/train/NORMAL/IM-0122-0001.jpeg</td>\n",
       "      <td>train</td>\n",
       "      <td>0</td>\n",
       "    </tr>\n",
       "    <tr>\n",
       "      <th>4</th>\n",
       "      <td>IM-0125-0001.jpeg</td>\n",
       "      <td>data/train/NORMAL/IM-0125-0001.jpeg</td>\n",
       "      <td>train</td>\n",
       "      <td>0</td>\n",
       "    </tr>\n",
       "    <tr>\n",
       "      <th>...</th>\n",
       "      <td>...</td>\n",
       "      <td>...</td>\n",
       "      <td>...</td>\n",
       "      <td>...</td>\n",
       "    </tr>\n",
       "    <tr>\n",
       "      <th>3</th>\n",
       "      <td>person1949_bacteria_4880.jpeg</td>\n",
       "      <td>data/val/PNEUMONIA/person1949_bacteria_4880.jpeg</td>\n",
       "      <td>val</td>\n",
       "      <td>1</td>\n",
       "    </tr>\n",
       "    <tr>\n",
       "      <th>4</th>\n",
       "      <td>person1950_bacteria_4881.jpeg</td>\n",
       "      <td>data/val/PNEUMONIA/person1950_bacteria_4881.jpeg</td>\n",
       "      <td>val</td>\n",
       "      <td>1</td>\n",
       "    </tr>\n",
       "    <tr>\n",
       "      <th>5</th>\n",
       "      <td>person1951_bacteria_4882.jpeg</td>\n",
       "      <td>data/val/PNEUMONIA/person1951_bacteria_4882.jpeg</td>\n",
       "      <td>val</td>\n",
       "      <td>1</td>\n",
       "    </tr>\n",
       "    <tr>\n",
       "      <th>6</th>\n",
       "      <td>person1952_bacteria_4883.jpeg</td>\n",
       "      <td>data/val/PNEUMONIA/person1952_bacteria_4883.jpeg</td>\n",
       "      <td>val</td>\n",
       "      <td>1</td>\n",
       "    </tr>\n",
       "    <tr>\n",
       "      <th>7</th>\n",
       "      <td>person1954_bacteria_4886.jpeg</td>\n",
       "      <td>data/val/PNEUMONIA/person1954_bacteria_4886.jpeg</td>\n",
       "      <td>val</td>\n",
       "      <td>1</td>\n",
       "    </tr>\n",
       "  </tbody>\n",
       "</table>\n",
       "<p>5856 rows × 4 columns</p>\n",
       "</div>"
      ],
      "text/plain": [
       "                       image_name  \\\n",
       "0               IM-0115-0001.jpeg   \n",
       "1               IM-0117-0001.jpeg   \n",
       "2               IM-0119-0001.jpeg   \n",
       "3               IM-0122-0001.jpeg   \n",
       "4               IM-0125-0001.jpeg   \n",
       "..                            ...   \n",
       "3   person1949_bacteria_4880.jpeg   \n",
       "4   person1950_bacteria_4881.jpeg   \n",
       "5   person1951_bacteria_4882.jpeg   \n",
       "6   person1952_bacteria_4883.jpeg   \n",
       "7   person1954_bacteria_4886.jpeg   \n",
       "\n",
       "                                           full_path   kind  flag  \n",
       "0                data/train/NORMAL/IM-0115-0001.jpeg  train     0  \n",
       "1                data/train/NORMAL/IM-0117-0001.jpeg  train     0  \n",
       "2                data/train/NORMAL/IM-0119-0001.jpeg  train     0  \n",
       "3                data/train/NORMAL/IM-0122-0001.jpeg  train     0  \n",
       "4                data/train/NORMAL/IM-0125-0001.jpeg  train     0  \n",
       "..                                               ...    ...   ...  \n",
       "3   data/val/PNEUMONIA/person1949_bacteria_4880.jpeg    val     1  \n",
       "4   data/val/PNEUMONIA/person1950_bacteria_4881.jpeg    val     1  \n",
       "5   data/val/PNEUMONIA/person1951_bacteria_4882.jpeg    val     1  \n",
       "6   data/val/PNEUMONIA/person1952_bacteria_4883.jpeg    val     1  \n",
       "7   data/val/PNEUMONIA/person1954_bacteria_4886.jpeg    val     1  \n",
       "\n",
       "[5856 rows x 4 columns]"
      ]
     },
     "execution_count": 6,
     "metadata": {},
     "output_type": "execute_result"
    },
    {
     "data": {
      "application/javascript": [
       "\n",
       "            setTimeout(function() {\n",
       "                var nbb_cell_id = 6;\n",
       "                var nbb_unformatted_code = \"dataset_images = pd.concat([creat_dataframe(*el) for el in grid])\\ndataset_images.to_csv(\\\"data_image.csv\\\", index=False)\\ndataset_images\";\n",
       "                var nbb_formatted_code = \"dataset_images = pd.concat([creat_dataframe(*el) for el in grid])\\ndataset_images.to_csv(\\\"data_image.csv\\\", index=False)\\ndataset_images\";\n",
       "                var nbb_cells = Jupyter.notebook.get_cells();\n",
       "                for (var i = 0; i < nbb_cells.length; ++i) {\n",
       "                    if (nbb_cells[i].input_prompt_number == nbb_cell_id) {\n",
       "                        if (nbb_cells[i].get_text() == nbb_unformatted_code) {\n",
       "                             nbb_cells[i].set_text(nbb_formatted_code);\n",
       "                        }\n",
       "                        break;\n",
       "                    }\n",
       "                }\n",
       "            }, 500);\n",
       "            "
      ],
      "text/plain": [
       "<IPython.core.display.Javascript object>"
      ]
     },
     "metadata": {},
     "output_type": "display_data"
    }
   ],
   "source": [
    "dataset_images = pd.concat([creat_dataframe(*el) for el in grid])\n",
    "dataset_images.to_csv(\"data_image.csv\", index=False)\n",
    "dataset_images"
   ]
  }
 ],
 "metadata": {
  "kernelspec": {
   "display_name": "Python 3",
   "language": "python",
   "name": "python3"
  },
  "language_info": {
   "codemirror_mode": {
    "name": "ipython",
    "version": 3
   },
   "file_extension": ".py",
   "mimetype": "text/x-python",
   "name": "python",
   "nbconvert_exporter": "python",
   "pygments_lexer": "ipython3",
   "version": "3.8.5"
  }
 },
 "nbformat": 4,
 "nbformat_minor": 4
}
