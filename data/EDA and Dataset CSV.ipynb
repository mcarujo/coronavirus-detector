{
 "cells": [
  {
   "cell_type": "code",
   "execution_count": 1,
   "metadata": {},
   "outputs": [
    {
     "data": {
      "application/javascript": [
       "\n",
       "            setTimeout(function() {\n",
       "                var nbb_cell_id = 1;\n",
       "                var nbb_unformatted_code = \"%load_ext nb_black\";\n",
       "                var nbb_formatted_code = \"%load_ext nb_black\";\n",
       "                var nbb_cells = Jupyter.notebook.get_cells();\n",
       "                for (var i = 0; i < nbb_cells.length; ++i) {\n",
       "                    if (nbb_cells[i].input_prompt_number == nbb_cell_id) {\n",
       "                        if (nbb_cells[i].get_text() == nbb_unformatted_code) {\n",
       "                             nbb_cells[i].set_text(nbb_formatted_code);\n",
       "                        }\n",
       "                        break;\n",
       "                    }\n",
       "                }\n",
       "            }, 500);\n",
       "            "
      ],
      "text/plain": [
       "<IPython.core.display.Javascript object>"
      ]
     },
     "metadata": {},
     "output_type": "display_data"
    }
   ],
   "source": [
    "%load_ext nb_black"
   ]
  },
  {
   "cell_type": "code",
   "execution_count": 9,
   "metadata": {},
   "outputs": [
    {
     "data": {
      "application/javascript": [
       "\n",
       "            setTimeout(function() {\n",
       "                var nbb_cell_id = 9;\n",
       "                var nbb_unformatted_code = \"import os\\nimport pandas as pd\\nimport plotly.graph_objects as go\\nimport plotly.express as px\\nfrom pandas_profiling import ProfileReport\";\n",
       "                var nbb_formatted_code = \"import os\\nimport pandas as pd\\nimport plotly.graph_objects as go\\nimport plotly.express as px\\nfrom pandas_profiling import ProfileReport\";\n",
       "                var nbb_cells = Jupyter.notebook.get_cells();\n",
       "                for (var i = 0; i < nbb_cells.length; ++i) {\n",
       "                    if (nbb_cells[i].input_prompt_number == nbb_cell_id) {\n",
       "                        if (nbb_cells[i].get_text() == nbb_unformatted_code) {\n",
       "                             nbb_cells[i].set_text(nbb_formatted_code);\n",
       "                        }\n",
       "                        break;\n",
       "                    }\n",
       "                }\n",
       "            }, 500);\n",
       "            "
      ],
      "text/plain": [
       "<IPython.core.display.Javascript object>"
      ]
     },
     "metadata": {},
     "output_type": "display_data"
    }
   ],
   "source": [
    "import os\n",
    "import pandas as pd\n",
    "import plotly.graph_objects as go\n",
    "import plotly.express as px\n",
    "from pandas_profiling import ProfileReport"
   ]
  },
  {
   "cell_type": "markdown",
   "metadata": {},
   "source": [
    "# Paths\n",
    "\n",
    "Define all paths for images in a UNIX evironment..."
   ]
  },
  {
   "cell_type": "code",
   "execution_count": 3,
   "metadata": {},
   "outputs": [
    {
     "data": {
      "application/javascript": [
       "\n",
       "            setTimeout(function() {\n",
       "                var nbb_cell_id = 3;\n",
       "                var nbb_unformatted_code = \"raw = 'raw'\\ntransformed = 'transformed'\\n\\npath_train_normal = os.path.join(\\\"train\\\",\\\"NORMAL\\\")\\npath_train_pneu = os.path.join(\\\"train\\\",\\\"PNEUMONIA\\\")\\n\\npath_test_normal = os.path.join(\\\"test\\\",\\\"NORMAL\\\")\\npath_test_pneu = os.path.join(\\\"test\\\",\\\"PNEUMONIA\\\")\\n\\npath_val_normal = os.path.join(\\\"val\\\",\\\"NORMAL\\\")\\npath_val_pneu =  os.path.join(\\\"val\\\",\\\"PNEUMONIA\\\")\";\n",
       "                var nbb_formatted_code = \"raw = \\\"raw\\\"\\ntransformed = \\\"transformed\\\"\\n\\npath_train_normal = os.path.join(\\\"train\\\", \\\"NORMAL\\\")\\npath_train_pneu = os.path.join(\\\"train\\\", \\\"PNEUMONIA\\\")\\n\\npath_test_normal = os.path.join(\\\"test\\\", \\\"NORMAL\\\")\\npath_test_pneu = os.path.join(\\\"test\\\", \\\"PNEUMONIA\\\")\\n\\npath_val_normal = os.path.join(\\\"val\\\", \\\"NORMAL\\\")\\npath_val_pneu = os.path.join(\\\"val\\\", \\\"PNEUMONIA\\\")\";\n",
       "                var nbb_cells = Jupyter.notebook.get_cells();\n",
       "                for (var i = 0; i < nbb_cells.length; ++i) {\n",
       "                    if (nbb_cells[i].input_prompt_number == nbb_cell_id) {\n",
       "                        if (nbb_cells[i].get_text() == nbb_unformatted_code) {\n",
       "                             nbb_cells[i].set_text(nbb_formatted_code);\n",
       "                        }\n",
       "                        break;\n",
       "                    }\n",
       "                }\n",
       "            }, 500);\n",
       "            "
      ],
      "text/plain": [
       "<IPython.core.display.Javascript object>"
      ]
     },
     "metadata": {},
     "output_type": "display_data"
    }
   ],
   "source": [
    "raw = 'raw'\n",
    "transformed = 'transformed'\n",
    "\n",
    "path_train_normal = os.path.join(\"train\",\"NORMAL\")\n",
    "path_train_pneu = os.path.join(\"train\",\"PNEUMONIA\")\n",
    "\n",
    "path_test_normal = os.path.join(\"test\",\"NORMAL\")\n",
    "path_test_pneu = os.path.join(\"test\",\"PNEUMONIA\")\n",
    "\n",
    "path_val_normal = os.path.join(\"val\",\"NORMAL\")\n",
    "path_val_pneu =  os.path.join(\"val\",\"PNEUMONIA\")\n"
   ]
  },
  {
   "cell_type": "markdown",
   "metadata": {},
   "source": [
    "# Creating auxiliary function"
   ]
  },
  {
   "cell_type": "code",
   "execution_count": 4,
   "metadata": {},
   "outputs": [
    {
     "data": {
      "application/javascript": [
       "\n",
       "            setTimeout(function() {\n",
       "                var nbb_cell_id = 4;\n",
       "                var nbb_unformatted_code = \"def creat_dataframe(base_path, kind, flag):\\n    \\\"\\\"\\\"\\n    Will read all information from a folder and return as DataFrame.\\n    \\\"\\\"\\\"\\n    # Getting all images names\\n    train_normal_imgs = os.listdir(os.path.join(raw, base_path))\\n    # Creating a DataFrame\\n    aux = pd.DataFrame(train_normal_imgs)\\n    aux.columns = [\\\"image_name\\\"]\\n\\n    # Creating new columns from\\n    aux[\\\"full_path_raw\\\"] = aux.image_name.apply(\\n        lambda x: os.path.join(raw, base_path, x)\\n    )\\n    aux[\\\"full_path_transformed\\\"] = aux.image_name.apply(\\n        lambda x: os.path.join(transformed, base_path, x)\\n    )\\n    aux[\\\"kind\\\"] = kind\\n    aux[\\\"flag\\\"] = flag\\n    return aux\";\n",
       "                var nbb_formatted_code = \"def creat_dataframe(base_path, kind, flag):\\n    \\\"\\\"\\\"\\n    Will read all information from a folder and return as DataFrame.\\n    \\\"\\\"\\\"\\n    # Getting all images names\\n    train_normal_imgs = os.listdir(os.path.join(raw, base_path))\\n    # Creating a DataFrame\\n    aux = pd.DataFrame(train_normal_imgs)\\n    aux.columns = [\\\"image_name\\\"]\\n\\n    # Creating new columns from\\n    aux[\\\"full_path_raw\\\"] = aux.image_name.apply(\\n        lambda x: os.path.join(raw, base_path, x)\\n    )\\n    aux[\\\"full_path_transformed\\\"] = aux.image_name.apply(\\n        lambda x: os.path.join(transformed, base_path, x)\\n    )\\n    aux[\\\"kind\\\"] = kind\\n    aux[\\\"flag\\\"] = flag\\n    return aux\";\n",
       "                var nbb_cells = Jupyter.notebook.get_cells();\n",
       "                for (var i = 0; i < nbb_cells.length; ++i) {\n",
       "                    if (nbb_cells[i].input_prompt_number == nbb_cell_id) {\n",
       "                        if (nbb_cells[i].get_text() == nbb_unformatted_code) {\n",
       "                             nbb_cells[i].set_text(nbb_formatted_code);\n",
       "                        }\n",
       "                        break;\n",
       "                    }\n",
       "                }\n",
       "            }, 500);\n",
       "            "
      ],
      "text/plain": [
       "<IPython.core.display.Javascript object>"
      ]
     },
     "metadata": {},
     "output_type": "display_data"
    }
   ],
   "source": [
    "def creat_dataframe(base_path, kind, flag):\n",
    "    \"\"\"\n",
    "    Will read all information from a folder and return as DataFrame.\n",
    "    \"\"\"\n",
    "    # Getting all images names\n",
    "    train_normal_imgs = os.listdir(os.path.join(raw, base_path))\n",
    "    # Creating a DataFrame\n",
    "    aux = pd.DataFrame(train_normal_imgs)\n",
    "    aux.columns = [\"image_name\"]\n",
    "\n",
    "    # Creating new columns from\n",
    "    aux[\"full_path_raw\"] = aux.image_name.apply(\n",
    "        lambda x: os.path.join(raw, base_path, x)\n",
    "    )\n",
    "    aux[\"full_path_transformed\"] = aux.image_name.apply(\n",
    "        lambda x: os.path.join(transformed, base_path, x)\n",
    "    )\n",
    "    aux[\"kind\"] = kind\n",
    "    aux[\"flag\"] = flag\n",
    "    return aux"
   ]
  },
  {
   "cell_type": "markdown",
   "metadata": {},
   "source": [
    "# Grid with all options"
   ]
  },
  {
   "cell_type": "code",
   "execution_count": 5,
   "metadata": {},
   "outputs": [
    {
     "data": {
      "application/javascript": [
       "\n",
       "            setTimeout(function() {\n",
       "                var nbb_cell_id = 5;\n",
       "                var nbb_unformatted_code = \"grid = [\\n    (path_train_normal, \\\"train\\\", 0),\\n    (path_train_pneu, \\\"train\\\", 1),\\n    (path_test_normal, \\\"test\\\", 0),\\n    (path_test_pneu, \\\"test\\\", 1),\\n    (path_val_normal, \\\"val\\\", 0),\\n    (path_val_pneu, \\\"val\\\", 1),\\n]\";\n",
       "                var nbb_formatted_code = \"grid = [\\n    (path_train_normal, \\\"train\\\", 0),\\n    (path_train_pneu, \\\"train\\\", 1),\\n    (path_test_normal, \\\"test\\\", 0),\\n    (path_test_pneu, \\\"test\\\", 1),\\n    (path_val_normal, \\\"val\\\", 0),\\n    (path_val_pneu, \\\"val\\\", 1),\\n]\";\n",
       "                var nbb_cells = Jupyter.notebook.get_cells();\n",
       "                for (var i = 0; i < nbb_cells.length; ++i) {\n",
       "                    if (nbb_cells[i].input_prompt_number == nbb_cell_id) {\n",
       "                        if (nbb_cells[i].get_text() == nbb_unformatted_code) {\n",
       "                             nbb_cells[i].set_text(nbb_formatted_code);\n",
       "                        }\n",
       "                        break;\n",
       "                    }\n",
       "                }\n",
       "            }, 500);\n",
       "            "
      ],
      "text/plain": [
       "<IPython.core.display.Javascript object>"
      ]
     },
     "metadata": {},
     "output_type": "display_data"
    }
   ],
   "source": [
    "grid = [\n",
    "    (path_train_normal, \"train\", 0),\n",
    "    (path_train_pneu, \"train\", 1),\n",
    "    (path_test_normal, \"test\", 0),\n",
    "    (path_test_pneu, \"test\", 1),\n",
    "    (path_val_normal, \"val\", 0),\n",
    "    (path_val_pneu, \"val\", 1),\n",
    "]"
   ]
  },
  {
   "cell_type": "markdown",
   "metadata": {},
   "source": [
    "# Creating DataFrame"
   ]
  },
  {
   "cell_type": "code",
   "execution_count": 6,
   "metadata": {},
   "outputs": [
    {
     "data": {
      "text/html": [
       "<div>\n",
       "<style scoped>\n",
       "    .dataframe tbody tr th:only-of-type {\n",
       "        vertical-align: middle;\n",
       "    }\n",
       "\n",
       "    .dataframe tbody tr th {\n",
       "        vertical-align: top;\n",
       "    }\n",
       "\n",
       "    .dataframe thead th {\n",
       "        text-align: right;\n",
       "    }\n",
       "</style>\n",
       "<table border=\"1\" class=\"dataframe\">\n",
       "  <thead>\n",
       "    <tr style=\"text-align: right;\">\n",
       "      <th></th>\n",
       "      <th>image_name</th>\n",
       "      <th>full_path_raw</th>\n",
       "      <th>full_path_transformed</th>\n",
       "      <th>kind</th>\n",
       "      <th>flag</th>\n",
       "    </tr>\n",
       "  </thead>\n",
       "  <tbody>\n",
       "    <tr>\n",
       "      <th>0</th>\n",
       "      <td>IM-0115-0001.jpeg</td>\n",
       "      <td>raw\\train\\NORMAL\\IM-0115-0001.jpeg</td>\n",
       "      <td>transformed\\train\\NORMAL\\IM-0115-0001.jpeg</td>\n",
       "      <td>train</td>\n",
       "      <td>0</td>\n",
       "    </tr>\n",
       "    <tr>\n",
       "      <th>1</th>\n",
       "      <td>IM-0117-0001.jpeg</td>\n",
       "      <td>raw\\train\\NORMAL\\IM-0117-0001.jpeg</td>\n",
       "      <td>transformed\\train\\NORMAL\\IM-0117-0001.jpeg</td>\n",
       "      <td>train</td>\n",
       "      <td>0</td>\n",
       "    </tr>\n",
       "    <tr>\n",
       "      <th>2</th>\n",
       "      <td>IM-0119-0001.jpeg</td>\n",
       "      <td>raw\\train\\NORMAL\\IM-0119-0001.jpeg</td>\n",
       "      <td>transformed\\train\\NORMAL\\IM-0119-0001.jpeg</td>\n",
       "      <td>train</td>\n",
       "      <td>0</td>\n",
       "    </tr>\n",
       "    <tr>\n",
       "      <th>3</th>\n",
       "      <td>IM-0122-0001.jpeg</td>\n",
       "      <td>raw\\train\\NORMAL\\IM-0122-0001.jpeg</td>\n",
       "      <td>transformed\\train\\NORMAL\\IM-0122-0001.jpeg</td>\n",
       "      <td>train</td>\n",
       "      <td>0</td>\n",
       "    </tr>\n",
       "    <tr>\n",
       "      <th>4</th>\n",
       "      <td>IM-0125-0001.jpeg</td>\n",
       "      <td>raw\\train\\NORMAL\\IM-0125-0001.jpeg</td>\n",
       "      <td>transformed\\train\\NORMAL\\IM-0125-0001.jpeg</td>\n",
       "      <td>train</td>\n",
       "      <td>0</td>\n",
       "    </tr>\n",
       "  </tbody>\n",
       "</table>\n",
       "</div>"
      ],
      "text/plain": [
       "          image_name                       full_path_raw  \\\n",
       "0  IM-0115-0001.jpeg  raw\\train\\NORMAL\\IM-0115-0001.jpeg   \n",
       "1  IM-0117-0001.jpeg  raw\\train\\NORMAL\\IM-0117-0001.jpeg   \n",
       "2  IM-0119-0001.jpeg  raw\\train\\NORMAL\\IM-0119-0001.jpeg   \n",
       "3  IM-0122-0001.jpeg  raw\\train\\NORMAL\\IM-0122-0001.jpeg   \n",
       "4  IM-0125-0001.jpeg  raw\\train\\NORMAL\\IM-0125-0001.jpeg   \n",
       "\n",
       "                        full_path_transformed   kind  flag  \n",
       "0  transformed\\train\\NORMAL\\IM-0115-0001.jpeg  train     0  \n",
       "1  transformed\\train\\NORMAL\\IM-0117-0001.jpeg  train     0  \n",
       "2  transformed\\train\\NORMAL\\IM-0119-0001.jpeg  train     0  \n",
       "3  transformed\\train\\NORMAL\\IM-0122-0001.jpeg  train     0  \n",
       "4  transformed\\train\\NORMAL\\IM-0125-0001.jpeg  train     0  "
      ]
     },
     "execution_count": 6,
     "metadata": {},
     "output_type": "execute_result"
    },
    {
     "data": {
      "application/javascript": [
       "\n",
       "            setTimeout(function() {\n",
       "                var nbb_cell_id = 6;\n",
       "                var nbb_unformatted_code = \"dataset_images = pd.concat([creat_dataframe(*el) for el in grid])\\ndataset_images.to_csv(\\\"data_image.csv\\\", index=False)\\ndataset_images.head()\";\n",
       "                var nbb_formatted_code = \"dataset_images = pd.concat([creat_dataframe(*el) for el in grid])\\ndataset_images.to_csv(\\\"data_image.csv\\\", index=False)\\ndataset_images.head()\";\n",
       "                var nbb_cells = Jupyter.notebook.get_cells();\n",
       "                for (var i = 0; i < nbb_cells.length; ++i) {\n",
       "                    if (nbb_cells[i].input_prompt_number == nbb_cell_id) {\n",
       "                        if (nbb_cells[i].get_text() == nbb_unformatted_code) {\n",
       "                             nbb_cells[i].set_text(nbb_formatted_code);\n",
       "                        }\n",
       "                        break;\n",
       "                    }\n",
       "                }\n",
       "            }, 500);\n",
       "            "
      ],
      "text/plain": [
       "<IPython.core.display.Javascript object>"
      ]
     },
     "metadata": {},
     "output_type": "display_data"
    }
   ],
   "source": [
    "dataset_images = pd.concat([creat_dataframe(*el) for el in grid])\n",
    "dataset_images.to_csv(\"data_image.csv\", index=False)\n",
    "dataset_images.head()"
   ]
  },
  {
   "cell_type": "markdown",
   "metadata": {},
   "source": [
    "# PorfileReport"
   ]
  },
  {
   "cell_type": "code",
   "execution_count": 7,
   "metadata": {},
   "outputs": [
    {
     "data": {
      "application/javascript": [
       "\n",
       "            setTimeout(function() {\n",
       "                var nbb_cell_id = 7;\n",
       "                var nbb_unformatted_code = \"profile = ProfileReport(dataset_images, title=\\\"Pandas Profiling Report\\\")\";\n",
       "                var nbb_formatted_code = \"profile = ProfileReport(dataset_images, title=\\\"Pandas Profiling Report\\\")\";\n",
       "                var nbb_cells = Jupyter.notebook.get_cells();\n",
       "                for (var i = 0; i < nbb_cells.length; ++i) {\n",
       "                    if (nbb_cells[i].input_prompt_number == nbb_cell_id) {\n",
       "                        if (nbb_cells[i].get_text() == nbb_unformatted_code) {\n",
       "                             nbb_cells[i].set_text(nbb_formatted_code);\n",
       "                        }\n",
       "                        break;\n",
       "                    }\n",
       "                }\n",
       "            }, 500);\n",
       "            "
      ],
      "text/plain": [
       "<IPython.core.display.Javascript object>"
      ]
     },
     "metadata": {},
     "output_type": "display_data"
    }
   ],
   "source": [
    "profile = ProfileReport(dataset_images, title=\"Pandas Profiling Report\")"
   ]
  },
  {
   "cell_type": "code",
   "execution_count": 8,
   "metadata": {},
   "outputs": [
    {
     "data": {
      "application/vnd.jupyter.widget-view+json": {
       "model_id": "5d8647ce140c42a89134cb72afd94df3",
       "version_major": 2,
       "version_minor": 0
      },
      "text/plain": [
       "HBox(children=(HTML(value='Summarize dataset'), FloatProgress(value=0.0, max=19.0), HTML(value='')))"
      ]
     },
     "metadata": {},
     "output_type": "display_data"
    },
    {
     "name": "stdout",
     "output_type": "stream",
     "text": [
      "\n"
     ]
    },
    {
     "data": {
      "application/vnd.jupyter.widget-view+json": {
       "model_id": "1b7d95ec89964d8fb8ba6b76c733c792",
       "version_major": 2,
       "version_minor": 0
      },
      "text/plain": [
       "HBox(children=(HTML(value='Generate report structure'), FloatProgress(value=0.0, max=1.0), HTML(value='')))"
      ]
     },
     "metadata": {},
     "output_type": "display_data"
    },
    {
     "name": "stdout",
     "output_type": "stream",
     "text": [
      "\n"
     ]
    },
    {
     "data": {
      "application/vnd.jupyter.widget-view+json": {
       "model_id": "65deab91b6164f89834223c1a2ce95ad",
       "version_major": 2,
       "version_minor": 0
      },
      "text/plain": [
       "HBox(children=(HTML(value='Render HTML'), FloatProgress(value=0.0, max=1.0), HTML(value='')))"
      ]
     },
     "metadata": {},
     "output_type": "display_data"
    },
    {
     "name": "stdout",
     "output_type": "stream",
     "text": [
      "\n"
     ]
    },
    {
     "data": {
      "application/vnd.jupyter.widget-view+json": {
       "model_id": "ae17b99f70b5447da3df839fb6984d50",
       "version_major": 2,
       "version_minor": 0
      },
      "text/plain": [
       "HBox(children=(HTML(value='Export report to file'), FloatProgress(value=0.0, max=1.0), HTML(value='')))"
      ]
     },
     "metadata": {},
     "output_type": "display_data"
    },
    {
     "name": "stdout",
     "output_type": "stream",
     "text": [
      "\n"
     ]
    },
    {
     "data": {
      "application/javascript": [
       "\n",
       "            setTimeout(function() {\n",
       "                var nbb_cell_id = 8;\n",
       "                var nbb_unformatted_code = \"profile.to_file(os.path.join(\\\"..\\\",\\\"app\\\",\\\"templates\\\",\\\"dataset.html\\\"))\";\n",
       "                var nbb_formatted_code = \"profile.to_file(os.path.join(\\\"..\\\", \\\"app\\\", \\\"templates\\\", \\\"dataset.html\\\"))\";\n",
       "                var nbb_cells = Jupyter.notebook.get_cells();\n",
       "                for (var i = 0; i < nbb_cells.length; ++i) {\n",
       "                    if (nbb_cells[i].input_prompt_number == nbb_cell_id) {\n",
       "                        if (nbb_cells[i].get_text() == nbb_unformatted_code) {\n",
       "                             nbb_cells[i].set_text(nbb_formatted_code);\n",
       "                        }\n",
       "                        break;\n",
       "                    }\n",
       "                }\n",
       "            }, 500);\n",
       "            "
      ],
      "text/plain": [
       "<IPython.core.display.Javascript object>"
      ]
     },
     "metadata": {},
     "output_type": "display_data"
    }
   ],
   "source": [
    "profile.to_file(os.path.join(\"..\", \"app\", \"templates\", \"dataset.html\"))"
   ]
  },
  {
   "cell_type": "code",
   "execution_count": 11,
   "metadata": {},
   "outputs": [
    {
     "data": {
      "application/vnd.jupyter.widget-view+json": {
       "model_id": "",
       "version_major": 2,
       "version_minor": 0
      },
      "text/plain": [
       "HBox(children=(HTML(value='Render widgets'), FloatProgress(value=0.0, max=1.0), HTML(value='')))"
      ]
     },
     "metadata": {},
     "output_type": "display_data"
    },
    {
     "data": {
      "application/vnd.jupyter.widget-view+json": {
       "model_id": "e8d77ea1a19349fd9a3bde928e975d4e",
       "version_major": 2,
       "version_minor": 0
      },
      "text/plain": [
       "VBox(children=(Tab(children=(Tab(children=(GridBox(children=(VBox(children=(GridspecLayout(children=(HTML(valu…"
      ]
     },
     "metadata": {},
     "output_type": "display_data"
    },
    {
     "data": {
      "application/javascript": [
       "\n",
       "            setTimeout(function() {\n",
       "                var nbb_cell_id = 11;\n",
       "                var nbb_unformatted_code = \"profile.to_widgets()\";\n",
       "                var nbb_formatted_code = \"profile.to_widgets()\";\n",
       "                var nbb_cells = Jupyter.notebook.get_cells();\n",
       "                for (var i = 0; i < nbb_cells.length; ++i) {\n",
       "                    if (nbb_cells[i].input_prompt_number == nbb_cell_id) {\n",
       "                        if (nbb_cells[i].get_text() == nbb_unformatted_code) {\n",
       "                             nbb_cells[i].set_text(nbb_formatted_code);\n",
       "                        }\n",
       "                        break;\n",
       "                    }\n",
       "                }\n",
       "            }, 500);\n",
       "            "
      ],
      "text/plain": [
       "<IPython.core.display.Javascript object>"
      ]
     },
     "metadata": {},
     "output_type": "display_data"
    }
   ],
   "source": [
    "profile.to_widgets()"
   ]
  }
 ],
 "metadata": {
  "kernelspec": {
   "display_name": "Python 3",
   "language": "python",
   "name": "python3"
  },
  "language_info": {
   "codemirror_mode": {
    "name": "ipython",
    "version": 3
   },
   "file_extension": ".py",
   "mimetype": "text/x-python",
   "name": "python",
   "nbconvert_exporter": "python",
   "pygments_lexer": "ipython3",
   "version": "3.8.5"
  }
 },
 "nbformat": 4,
 "nbformat_minor": 4
}
