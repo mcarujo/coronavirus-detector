{
 "cells": [
  {
   "cell_type": "code",
   "execution_count": 1,
   "metadata": {},
   "outputs": [
    {
     "data": {
      "application/javascript": [
       "\n",
       "            setTimeout(function() {\n",
       "                var nbb_cell_id = 1;\n",
       "                var nbb_unformatted_code = \"%load_ext nb_black\";\n",
       "                var nbb_formatted_code = \"%load_ext nb_black\";\n",
       "                var nbb_cells = Jupyter.notebook.get_cells();\n",
       "                for (var i = 0; i < nbb_cells.length; ++i) {\n",
       "                    if (nbb_cells[i].input_prompt_number == nbb_cell_id) {\n",
       "                        if (nbb_cells[i].get_text() == nbb_unformatted_code) {\n",
       "                             nbb_cells[i].set_text(nbb_formatted_code);\n",
       "                        }\n",
       "                        break;\n",
       "                    }\n",
       "                }\n",
       "            }, 500);\n",
       "            "
      ],
      "text/plain": [
       "<IPython.core.display.Javascript object>"
      ]
     },
     "metadata": {},
     "output_type": "display_data"
    }
   ],
   "source": [
    "%load_ext nb_black"
   ]
  },
  {
   "cell_type": "code",
   "execution_count": 2,
   "metadata": {},
   "outputs": [
    {
     "data": {
      "application/javascript": [
       "\n",
       "            setTimeout(function() {\n",
       "                var nbb_cell_id = 2;\n",
       "                var nbb_unformatted_code = \"\\\"\\\"\\\"\\nThis file just to save some functions to help keep the notebooks clean.  \\n\\\"\\\"\\\"\\nimport cv2\\nimport pandas as pd\\nimport os\\nimport numpy as np\\nimport lungs_finder as lf\";\n",
       "                var nbb_formatted_code = \"\\\"\\\"\\\"\\nThis file just to save some functions to help keep the notebooks clean.  \\n\\\"\\\"\\\"\\nimport cv2\\nimport pandas as pd\\nimport os\\nimport numpy as np\\nimport lungs_finder as lf\";\n",
       "                var nbb_cells = Jupyter.notebook.get_cells();\n",
       "                for (var i = 0; i < nbb_cells.length; ++i) {\n",
       "                    if (nbb_cells[i].input_prompt_number == nbb_cell_id) {\n",
       "                        if (nbb_cells[i].get_text() == nbb_unformatted_code) {\n",
       "                             nbb_cells[i].set_text(nbb_formatted_code);\n",
       "                        }\n",
       "                        break;\n",
       "                    }\n",
       "                }\n",
       "            }, 500);\n",
       "            "
      ],
      "text/plain": [
       "<IPython.core.display.Javascript object>"
      ]
     },
     "metadata": {},
     "output_type": "display_data"
    }
   ],
   "source": [
    "\"\"\"\n",
    "This file just to save some functions to help keep the notebooks clean.  \n",
    "\"\"\"\n",
    "import cv2\n",
    "import pandas as pd\n",
    "import os\n",
    "import numpy as np\n",
    "import lungs_finder as lf"
   ]
  },
  {
   "cell_type": "code",
   "execution_count": 3,
   "metadata": {},
   "outputs": [
    {
     "data": {
      "application/javascript": [
       "\n",
       "            setTimeout(function() {\n",
       "                var nbb_cell_id = 3;\n",
       "                var nbb_unformatted_code = \"def process_data(img_path, IMAGE_RESOLUTION, BORDER):\\n    \\\"\\\"\\\"\\n    This function wil get the image path, load it and then return it as object.\\n\\n    :img_path string: The image path.\\n    :IMAGE_RESOLUTION tuple: Tuple to define the image resolution (x, y, z).\\n    :BORDER int: The pixel that will be used to cut the image.\\n    \\\"\\\"\\\"\\n\\n    try:\\n        # Read the image\\n        img = cv2.imread(img_path)\\n        # Resize the image\\n        img = cv2.resize(img, IMAGE_RESOLUTION[:2])\\n\\n        # Transform the color to grayscale\\n        img = cv2.cvtColor(img, cv2.COLOR_BGR2GRAY)\\n\\n        # Identify lungs\\n        img = lf.get_lungs(img, padding=0)\\n\\n        # Scale the image between zero and one\\n        img = img / 255.0\\n\\n        # Resize the image\\n        img = cv2.resize(img, IMAGE_RESOLUTION[:2])\\n\\n        # Reshape the image\\n        img = np.reshape(img, IMAGE_RESOLUTION)\\n\\n        return img\\n    except:\\n        # Read the image again\\n        img = cv2.imread(img_path)\\n        # Resize the image\\n        img = cv2.resize(img, IMAGE_RESOLUTION[:2])\\n\\n        # Transform the color to grayscale\\n        img = cv2.cvtColor(img, cv2.COLOR_BGR2GRAY)\\n\\n        # Scale the image between zero and one\\n        img = img / 255.0\\n\\n        # Cut the image\\n        img = img[\\n            BORDER : IMAGE_RESOLUTION[0] - BORDER, BORDER : IMAGE_RESOLUTION[0] - BORDER\\n        ]\\n\\n        # Resize the image\\n        img = cv2.resize(img, IMAGE_RESOLUTION[:2])\\n\\n        # Reshape the image\\n        img = np.reshape(img, IMAGE_RESOLUTION)\\n\\n        return img\";\n",
       "                var nbb_formatted_code = \"def process_data(img_path, IMAGE_RESOLUTION, BORDER):\\n    \\\"\\\"\\\"\\n    This function wil get the image path, load it and then return it as object.\\n\\n    :img_path string: The image path.\\n    :IMAGE_RESOLUTION tuple: Tuple to define the image resolution (x, y, z).\\n    :BORDER int: The pixel that will be used to cut the image.\\n    \\\"\\\"\\\"\\n\\n    try:\\n        # Read the image\\n        img = cv2.imread(img_path)\\n        # Resize the image\\n        img = cv2.resize(img, IMAGE_RESOLUTION[:2])\\n\\n        # Transform the color to grayscale\\n        img = cv2.cvtColor(img, cv2.COLOR_BGR2GRAY)\\n\\n        # Identify lungs\\n        img = lf.get_lungs(img, padding=0)\\n\\n        # Scale the image between zero and one\\n        img = img / 255.0\\n\\n        # Resize the image\\n        img = cv2.resize(img, IMAGE_RESOLUTION[:2])\\n\\n        # Reshape the image\\n        img = np.reshape(img, IMAGE_RESOLUTION)\\n\\n        return img\\n    except:\\n        # Read the image again\\n        img = cv2.imread(img_path)\\n        # Resize the image\\n        img = cv2.resize(img, IMAGE_RESOLUTION[:2])\\n\\n        # Transform the color to grayscale\\n        img = cv2.cvtColor(img, cv2.COLOR_BGR2GRAY)\\n\\n        # Scale the image between zero and one\\n        img = img / 255.0\\n\\n        # Cut the image\\n        img = img[\\n            BORDER : IMAGE_RESOLUTION[0] - BORDER, BORDER : IMAGE_RESOLUTION[0] - BORDER\\n        ]\\n\\n        # Resize the image\\n        img = cv2.resize(img, IMAGE_RESOLUTION[:2])\\n\\n        # Reshape the image\\n        img = np.reshape(img, IMAGE_RESOLUTION)\\n\\n        return img\";\n",
       "                var nbb_cells = Jupyter.notebook.get_cells();\n",
       "                for (var i = 0; i < nbb_cells.length; ++i) {\n",
       "                    if (nbb_cells[i].input_prompt_number == nbb_cell_id) {\n",
       "                        if (nbb_cells[i].get_text() == nbb_unformatted_code) {\n",
       "                             nbb_cells[i].set_text(nbb_formatted_code);\n",
       "                        }\n",
       "                        break;\n",
       "                    }\n",
       "                }\n",
       "            }, 500);\n",
       "            "
      ],
      "text/plain": [
       "<IPython.core.display.Javascript object>"
      ]
     },
     "metadata": {},
     "output_type": "display_data"
    }
   ],
   "source": [
    "def process_data(img_path, IMAGE_RESOLUTION, BORDER):\n",
    "    \"\"\"\n",
    "    This function wil get the image path, load it and then return it as object.\n",
    "\n",
    "    :img_path string: The image path.\n",
    "    :IMAGE_RESOLUTION tuple: Tuple to define the image resolution (x, y, z).\n",
    "    :BORDER int: The pixel that will be used to cut the image.\n",
    "    \"\"\"\n",
    "\n",
    "    try:\n",
    "        # Read the image\n",
    "        img = cv2.imread(img_path)\n",
    "        # Resize the image\n",
    "        img = cv2.resize(img, IMAGE_RESOLUTION[:2])\n",
    "\n",
    "        # Transform the color to grayscale\n",
    "        img = cv2.cvtColor(img, cv2.COLOR_BGR2GRAY)\n",
    "\n",
    "        # Identify lungs\n",
    "        img = lf.get_lungs(img, padding=0)\n",
    "\n",
    "        # Scale the image between zero and one\n",
    "        img = img / 255.0\n",
    "\n",
    "        # Resize the image\n",
    "        img = cv2.resize(img, IMAGE_RESOLUTION[:2])\n",
    "\n",
    "        # Reshape the image\n",
    "        img = np.reshape(img, IMAGE_RESOLUTION)\n",
    "\n",
    "        return img\n",
    "    except:\n",
    "        # Read the image again\n",
    "        img = cv2.imread(img_path)\n",
    "        # Resize the image\n",
    "        img = cv2.resize(img, IMAGE_RESOLUTION[:2])\n",
    "\n",
    "        # Transform the color to grayscale\n",
    "        img = cv2.cvtColor(img, cv2.COLOR_BGR2GRAY)\n",
    "\n",
    "        # Scale the image between zero and one\n",
    "        img = img / 255.0\n",
    "\n",
    "        # Cut the image\n",
    "        img = img[\n",
    "            BORDER : IMAGE_RESOLUTION[0] - BORDER, BORDER : IMAGE_RESOLUTION[0] - BORDER\n",
    "        ]\n",
    "\n",
    "        # Resize the image\n",
    "        img = cv2.resize(img, IMAGE_RESOLUTION[:2])\n",
    "\n",
    "        # Reshape the image\n",
    "        img = np.reshape(img, IMAGE_RESOLUTION)\n",
    "\n",
    "        return img\n",
    "\n"
   ]
  },
  {
   "cell_type": "markdown",
   "metadata": {},
   "source": [
    "# Load raw dataset"
   ]
  },
  {
   "cell_type": "code",
   "execution_count": 4,
   "metadata": {},
   "outputs": [
    {
     "data": {
      "text/html": [
       "<div>\n",
       "<style scoped>\n",
       "    .dataframe tbody tr th:only-of-type {\n",
       "        vertical-align: middle;\n",
       "    }\n",
       "\n",
       "    .dataframe tbody tr th {\n",
       "        vertical-align: top;\n",
       "    }\n",
       "\n",
       "    .dataframe thead th {\n",
       "        text-align: right;\n",
       "    }\n",
       "</style>\n",
       "<table border=\"1\" class=\"dataframe\">\n",
       "  <thead>\n",
       "    <tr style=\"text-align: right;\">\n",
       "      <th></th>\n",
       "      <th>image_name</th>\n",
       "      <th>full_path_raw</th>\n",
       "      <th>full_path_transformed</th>\n",
       "      <th>kind</th>\n",
       "      <th>flag</th>\n",
       "    </tr>\n",
       "  </thead>\n",
       "  <tbody>\n",
       "    <tr>\n",
       "      <th>0</th>\n",
       "      <td>IM-0115-0001.jpeg</td>\n",
       "      <td>raw\\train\\NORMAL\\IM-0115-0001.jpeg</td>\n",
       "      <td>transformed\\train\\NORMAL\\IM-0115-0001.jpeg</td>\n",
       "      <td>train</td>\n",
       "      <td>0</td>\n",
       "    </tr>\n",
       "    <tr>\n",
       "      <th>1</th>\n",
       "      <td>IM-0117-0001.jpeg</td>\n",
       "      <td>raw\\train\\NORMAL\\IM-0117-0001.jpeg</td>\n",
       "      <td>transformed\\train\\NORMAL\\IM-0117-0001.jpeg</td>\n",
       "      <td>train</td>\n",
       "      <td>0</td>\n",
       "    </tr>\n",
       "    <tr>\n",
       "      <th>2</th>\n",
       "      <td>IM-0119-0001.jpeg</td>\n",
       "      <td>raw\\train\\NORMAL\\IM-0119-0001.jpeg</td>\n",
       "      <td>transformed\\train\\NORMAL\\IM-0119-0001.jpeg</td>\n",
       "      <td>train</td>\n",
       "      <td>0</td>\n",
       "    </tr>\n",
       "    <tr>\n",
       "      <th>3</th>\n",
       "      <td>IM-0122-0001.jpeg</td>\n",
       "      <td>raw\\train\\NORMAL\\IM-0122-0001.jpeg</td>\n",
       "      <td>transformed\\train\\NORMAL\\IM-0122-0001.jpeg</td>\n",
       "      <td>train</td>\n",
       "      <td>0</td>\n",
       "    </tr>\n",
       "    <tr>\n",
       "      <th>4</th>\n",
       "      <td>IM-0125-0001.jpeg</td>\n",
       "      <td>raw\\train\\NORMAL\\IM-0125-0001.jpeg</td>\n",
       "      <td>transformed\\train\\NORMAL\\IM-0125-0001.jpeg</td>\n",
       "      <td>train</td>\n",
       "      <td>0</td>\n",
       "    </tr>\n",
       "  </tbody>\n",
       "</table>\n",
       "</div>"
      ],
      "text/plain": [
       "          image_name                       full_path_raw  \\\n",
       "0  IM-0115-0001.jpeg  raw\\train\\NORMAL\\IM-0115-0001.jpeg   \n",
       "1  IM-0117-0001.jpeg  raw\\train\\NORMAL\\IM-0117-0001.jpeg   \n",
       "2  IM-0119-0001.jpeg  raw\\train\\NORMAL\\IM-0119-0001.jpeg   \n",
       "3  IM-0122-0001.jpeg  raw\\train\\NORMAL\\IM-0122-0001.jpeg   \n",
       "4  IM-0125-0001.jpeg  raw\\train\\NORMAL\\IM-0125-0001.jpeg   \n",
       "\n",
       "                        full_path_transformed   kind  flag  \n",
       "0  transformed\\train\\NORMAL\\IM-0115-0001.jpeg  train     0  \n",
       "1  transformed\\train\\NORMAL\\IM-0117-0001.jpeg  train     0  \n",
       "2  transformed\\train\\NORMAL\\IM-0119-0001.jpeg  train     0  \n",
       "3  transformed\\train\\NORMAL\\IM-0122-0001.jpeg  train     0  \n",
       "4  transformed\\train\\NORMAL\\IM-0125-0001.jpeg  train     0  "
      ]
     },
     "execution_count": 4,
     "metadata": {},
     "output_type": "execute_result"
    },
    {
     "data": {
      "application/javascript": [
       "\n",
       "            setTimeout(function() {\n",
       "                var nbb_cell_id = 4;\n",
       "                var nbb_unformatted_code = \"dataset = pd.read_csv(\\\"data_image.csv\\\")\\ndataset.head()\";\n",
       "                var nbb_formatted_code = \"dataset = pd.read_csv(\\\"data_image.csv\\\")\\ndataset.head()\";\n",
       "                var nbb_cells = Jupyter.notebook.get_cells();\n",
       "                for (var i = 0; i < nbb_cells.length; ++i) {\n",
       "                    if (nbb_cells[i].input_prompt_number == nbb_cell_id) {\n",
       "                        if (nbb_cells[i].get_text() == nbb_unformatted_code) {\n",
       "                             nbb_cells[i].set_text(nbb_formatted_code);\n",
       "                        }\n",
       "                        break;\n",
       "                    }\n",
       "                }\n",
       "            }, 500);\n",
       "            "
      ],
      "text/plain": [
       "<IPython.core.display.Javascript object>"
      ]
     },
     "metadata": {},
     "output_type": "display_data"
    }
   ],
   "source": [
    "dataset = pd.read_csv(\"data_image.csv\")\n",
    "dataset.head()"
   ]
  },
  {
   "cell_type": "code",
   "execution_count": 5,
   "metadata": {},
   "outputs": [
    {
     "data": {
      "application/javascript": [
       "\n",
       "            setTimeout(function() {\n",
       "                var nbb_cell_id = 5;\n",
       "                var nbb_unformatted_code = \"raw = 'raw'\\ntransformed = 'transformed'\\n\\npath_train_normal = os.path.join(\\\"train\\\",\\\"NORMAL\\\")\\npath_train_pneu = os.path.join(\\\"train\\\",\\\"PNEUMONIA\\\")\\n\\npath_test_normal = os.path.join(\\\"test\\\",\\\"NORMAL\\\")\\npath_test_pneu = os.path.join(\\\"test\\\",\\\"PNEUMONIA\\\")\\n\\npath_val_normal = os.path.join(\\\"val\\\",\\\"NORMAL\\\")\\npath_val_pneu =  os.path.join(\\\"val\\\",\\\"PNEUMONIA\\\")\";\n",
       "                var nbb_formatted_code = \"raw = \\\"raw\\\"\\ntransformed = \\\"transformed\\\"\\n\\npath_train_normal = os.path.join(\\\"train\\\", \\\"NORMAL\\\")\\npath_train_pneu = os.path.join(\\\"train\\\", \\\"PNEUMONIA\\\")\\n\\npath_test_normal = os.path.join(\\\"test\\\", \\\"NORMAL\\\")\\npath_test_pneu = os.path.join(\\\"test\\\", \\\"PNEUMONIA\\\")\\n\\npath_val_normal = os.path.join(\\\"val\\\", \\\"NORMAL\\\")\\npath_val_pneu = os.path.join(\\\"val\\\", \\\"PNEUMONIA\\\")\";\n",
       "                var nbb_cells = Jupyter.notebook.get_cells();\n",
       "                for (var i = 0; i < nbb_cells.length; ++i) {\n",
       "                    if (nbb_cells[i].input_prompt_number == nbb_cell_id) {\n",
       "                        if (nbb_cells[i].get_text() == nbb_unformatted_code) {\n",
       "                             nbb_cells[i].set_text(nbb_formatted_code);\n",
       "                        }\n",
       "                        break;\n",
       "                    }\n",
       "                }\n",
       "            }, 500);\n",
       "            "
      ],
      "text/plain": [
       "<IPython.core.display.Javascript object>"
      ]
     },
     "metadata": {},
     "output_type": "display_data"
    }
   ],
   "source": [
    "raw = 'raw'\n",
    "transformed = 'transformed'\n",
    "\n",
    "path_train_normal = os.path.join(\"train\",\"NORMAL\")\n",
    "path_train_pneu = os.path.join(\"train\",\"PNEUMONIA\")\n",
    "\n",
    "path_test_normal = os.path.join(\"test\",\"NORMAL\")\n",
    "path_test_pneu = os.path.join(\"test\",\"PNEUMONIA\")\n",
    "\n",
    "path_val_normal = os.path.join(\"val\",\"NORMAL\")\n",
    "path_val_pneu =  os.path.join(\"val\",\"PNEUMONIA\")\n"
   ]
  },
  {
   "cell_type": "code",
   "execution_count": 6,
   "metadata": {},
   "outputs": [
    {
     "data": {
      "application/javascript": [
       "\n",
       "            setTimeout(function() {\n",
       "                var nbb_cell_id = 6;\n",
       "                var nbb_unformatted_code = \"from pathlib import Path\\n\\nPath(os.path.join(transformed, path_train_normal)).mkdir(parents=True, exist_ok=True)\\nPath(os.path.join(transformed, path_train_pneu)).mkdir(parents=True, exist_ok=True)\\nPath(os.path.join(transformed, path_test_normal)).mkdir(parents=True, exist_ok=True)\\nPath(os.path.join(transformed, path_test_pneu)).mkdir(parents=True, exist_ok=True)\\nPath(os.path.join(transformed, path_val_normal)).mkdir(parents=True, exist_ok=True)\\nPath(os.path.join(transformed, path_val_pneu)).mkdir(parents=True, exist_ok=True)\";\n",
       "                var nbb_formatted_code = \"from pathlib import Path\\n\\nPath(os.path.join(transformed, path_train_normal)).mkdir(parents=True, exist_ok=True)\\nPath(os.path.join(transformed, path_train_pneu)).mkdir(parents=True, exist_ok=True)\\nPath(os.path.join(transformed, path_test_normal)).mkdir(parents=True, exist_ok=True)\\nPath(os.path.join(transformed, path_test_pneu)).mkdir(parents=True, exist_ok=True)\\nPath(os.path.join(transformed, path_val_normal)).mkdir(parents=True, exist_ok=True)\\nPath(os.path.join(transformed, path_val_pneu)).mkdir(parents=True, exist_ok=True)\";\n",
       "                var nbb_cells = Jupyter.notebook.get_cells();\n",
       "                for (var i = 0; i < nbb_cells.length; ++i) {\n",
       "                    if (nbb_cells[i].input_prompt_number == nbb_cell_id) {\n",
       "                        if (nbb_cells[i].get_text() == nbb_unformatted_code) {\n",
       "                             nbb_cells[i].set_text(nbb_formatted_code);\n",
       "                        }\n",
       "                        break;\n",
       "                    }\n",
       "                }\n",
       "            }, 500);\n",
       "            "
      ],
      "text/plain": [
       "<IPython.core.display.Javascript object>"
      ]
     },
     "metadata": {},
     "output_type": "display_data"
    }
   ],
   "source": [
    "from pathlib import Path\n",
    "\n",
    "Path(os.path.join(transformed, path_train_normal)).mkdir(parents=True, exist_ok=True)\n",
    "Path(os.path.join(transformed, path_train_pneu)).mkdir(parents=True, exist_ok=True)\n",
    "Path(os.path.join(transformed, path_test_normal)).mkdir(parents=True, exist_ok=True)\n",
    "Path(os.path.join(transformed, path_test_pneu)).mkdir(parents=True, exist_ok=True)\n",
    "Path(os.path.join(transformed, path_val_normal)).mkdir(parents=True, exist_ok=True)\n",
    "Path(os.path.join(transformed, path_val_pneu)).mkdir(parents=True, exist_ok=True)"
   ]
  },
  {
   "cell_type": "code",
   "execution_count": 7,
   "metadata": {},
   "outputs": [
    {
     "name": "stdout",
     "output_type": "stream",
     "text": [
      "Image shape: (250, 250, 1)\n",
      "Wall time: 1min 32s\n"
     ]
    },
    {
     "data": {
      "application/javascript": [
       "\n",
       "            setTimeout(function() {\n",
       "                var nbb_cell_id = 7;\n",
       "                var nbb_unformatted_code = \"%%time\\nfrom joblib import Parallel, delayed\\n\\n\\nIMAGE_RESOLUTION = (250, 250, 1)\\nBORDER = 30\\nprint('Image shape: {}'.format(IMAGE_RESOLUTION))\\n\\nimages_transformed = Parallel(n_jobs=4)(delayed(process_data)(img_path, IMAGE_RESOLUTION, BORDER) for img_path in dataset.full_path_raw)\";\n",
       "                var nbb_formatted_code = \"%%time\\nfrom joblib import Parallel, delayed\\n\\n\\nIMAGE_RESOLUTION = (250, 250, 1)\\nBORDER = 30\\nprint('Image shape: {}'.format(IMAGE_RESOLUTION))\\n\\nimages_transformed = Parallel(n_jobs=4)(delayed(process_data)(img_path, IMAGE_RESOLUTION, BORDER) for img_path in dataset.full_path_raw)\";\n",
       "                var nbb_cells = Jupyter.notebook.get_cells();\n",
       "                for (var i = 0; i < nbb_cells.length; ++i) {\n",
       "                    if (nbb_cells[i].input_prompt_number == nbb_cell_id) {\n",
       "                        if (nbb_cells[i].get_text() == nbb_unformatted_code) {\n",
       "                             nbb_cells[i].set_text(nbb_formatted_code);\n",
       "                        }\n",
       "                        break;\n",
       "                    }\n",
       "                }\n",
       "            }, 500);\n",
       "            "
      ],
      "text/plain": [
       "<IPython.core.display.Javascript object>"
      ]
     },
     "metadata": {},
     "output_type": "display_data"
    }
   ],
   "source": [
    "%%time\n",
    "from joblib import Parallel, delayed\n",
    "\n",
    "\n",
    "IMAGE_RESOLUTION = (250, 250, 1)\n",
    "BORDER = 30\n",
    "print('Image shape: {}'.format(IMAGE_RESOLUTION))\n",
    "\n",
    "images_transformed = Parallel(n_jobs=4)(delayed(process_data)(img_path, IMAGE_RESOLUTION, BORDER) for img_path in dataset.full_path_raw)"
   ]
  },
  {
   "cell_type": "code",
   "execution_count": 8,
   "metadata": {},
   "outputs": [
    {
     "name": "stdout",
     "output_type": "stream",
     "text": [
      "All images were transformed!\n",
      "Wall time: 13.9 s\n"
     ]
    },
    {
     "data": {
      "application/javascript": [
       "\n",
       "            setTimeout(function() {\n",
       "                var nbb_cell_id = 8;\n",
       "                var nbb_unformatted_code = \"%%time\\nresults = Parallel(n_jobs=4)(delayed(cv2.imwrite)(img_path_transformed, images_transformed[index]*255) for index, img_path_transformed in enumerate(dataset.full_path_transformed))\\n\\nif sum(results) == len(dataset.full_path_raw):\\n    print(\\\"All images were transformed!\\\")\";\n",
       "                var nbb_formatted_code = \"%%time\\nresults = Parallel(n_jobs=4)(delayed(cv2.imwrite)(img_path_transformed, images_transformed[index]*255) for index, img_path_transformed in enumerate(dataset.full_path_transformed))\\n\\nif sum(results) == len(dataset.full_path_raw):\\n    print(\\\"All images were transformed!\\\")\";\n",
       "                var nbb_cells = Jupyter.notebook.get_cells();\n",
       "                for (var i = 0; i < nbb_cells.length; ++i) {\n",
       "                    if (nbb_cells[i].input_prompt_number == nbb_cell_id) {\n",
       "                        if (nbb_cells[i].get_text() == nbb_unformatted_code) {\n",
       "                             nbb_cells[i].set_text(nbb_formatted_code);\n",
       "                        }\n",
       "                        break;\n",
       "                    }\n",
       "                }\n",
       "            }, 500);\n",
       "            "
      ],
      "text/plain": [
       "<IPython.core.display.Javascript object>"
      ]
     },
     "metadata": {},
     "output_type": "display_data"
    }
   ],
   "source": [
    "%%time\n",
    "results = Parallel(n_jobs=4)(delayed(cv2.imwrite)(img_path_transformed, images_transformed[index]*255) for index, img_path_transformed in enumerate(dataset.full_path_transformed))\n",
    "\n",
    "if sum(results) == len(dataset.full_path_raw):\n",
    "    print(\"All images were transformed!\")"
   ]
  },
  {
   "cell_type": "code",
   "execution_count": 9,
   "metadata": {},
   "outputs": [
    {
     "data": {
      "application/javascript": [
       "\n",
       "            setTimeout(function() {\n",
       "                var nbb_cell_id = 9;\n",
       "                var nbb_unformatted_code = \"# Firebase Connection\";\n",
       "                var nbb_formatted_code = \"# Firebase Connection\";\n",
       "                var nbb_cells = Jupyter.notebook.get_cells();\n",
       "                for (var i = 0; i < nbb_cells.length; ++i) {\n",
       "                    if (nbb_cells[i].input_prompt_number == nbb_cell_id) {\n",
       "                        if (nbb_cells[i].get_text() == nbb_unformatted_code) {\n",
       "                             nbb_cells[i].set_text(nbb_formatted_code);\n",
       "                        }\n",
       "                        break;\n",
       "                    }\n",
       "                }\n",
       "            }, 500);\n",
       "            "
      ],
      "text/plain": [
       "<IPython.core.display.Javascript object>"
      ]
     },
     "metadata": {},
     "output_type": "display_data"
    }
   ],
   "source": [
    "# Firebase Connection"
   ]
  },
  {
   "cell_type": "code",
   "execution_count": 39,
   "metadata": {},
   "outputs": [
    {
     "name": "stdout",
     "output_type": "stream",
     "text": [
      "Requirement already satisfied: tqdm in c:\\users\\marco_carujo\\anaconda3\\lib\\site-packages (4.50.2)\n"
     ]
    },
    {
     "data": {
      "application/javascript": [
       "\n",
       "            setTimeout(function() {\n",
       "                var nbb_cell_id = 39;\n",
       "                var nbb_unformatted_code = \"!pip3 install tqdm\";\n",
       "                var nbb_formatted_code = \"!pip3 install tqdm\";\n",
       "                var nbb_cells = Jupyter.notebook.get_cells();\n",
       "                for (var i = 0; i < nbb_cells.length; ++i) {\n",
       "                    if (nbb_cells[i].input_prompt_number == nbb_cell_id) {\n",
       "                        if (nbb_cells[i].get_text() == nbb_unformatted_code) {\n",
       "                             nbb_cells[i].set_text(nbb_formatted_code);\n",
       "                        }\n",
       "                        break;\n",
       "                    }\n",
       "                }\n",
       "            }, 500);\n",
       "            "
      ],
      "text/plain": [
       "<IPython.core.display.Javascript object>"
      ]
     },
     "metadata": {},
     "output_type": "display_data"
    }
   ],
   "source": [
    "!pip3 install tqdm"
   ]
  },
  {
   "cell_type": "code",
   "execution_count": 43,
   "metadata": {},
   "outputs": [
    {
     "data": {
      "application/javascript": [
       "\n",
       "            setTimeout(function() {\n",
       "                var nbb_cell_id = 43;\n",
       "                var nbb_unformatted_code = \"import pyrebase\\nfrom firebase_env import firebase_config\\nfrom tqdm.notebook import tqdm\\n\\n\\nfirebase = pyrebase.initialize_app(firebase_config)\\nstorage = firebase.storage()\";\n",
       "                var nbb_formatted_code = \"import pyrebase\\nfrom firebase_env import firebase_config\\nfrom tqdm.notebook import tqdm\\n\\n\\nfirebase = pyrebase.initialize_app(firebase_config)\\nstorage = firebase.storage()\";\n",
       "                var nbb_cells = Jupyter.notebook.get_cells();\n",
       "                for (var i = 0; i < nbb_cells.length; ++i) {\n",
       "                    if (nbb_cells[i].input_prompt_number == nbb_cell_id) {\n",
       "                        if (nbb_cells[i].get_text() == nbb_unformatted_code) {\n",
       "                             nbb_cells[i].set_text(nbb_formatted_code);\n",
       "                        }\n",
       "                        break;\n",
       "                    }\n",
       "                }\n",
       "            }, 500);\n",
       "            "
      ],
      "text/plain": [
       "<IPython.core.display.Javascript object>"
      ]
     },
     "metadata": {},
     "output_type": "display_data"
    }
   ],
   "source": [
    "import pyrebase\n",
    "from firebase_env import firebase_config\n",
    "from tqdm.notebook import tqdm\n",
    "\n",
    "\n",
    "firebase = pyrebase.initialize_app(firebase_config)\n",
    "storage = firebase.storage()"
   ]
  },
  {
   "cell_type": "code",
   "execution_count": 46,
   "metadata": {},
   "outputs": [
    {
     "data": {
      "application/vnd.jupyter.widget-view+json": {
       "model_id": "b533e6e9402e407eb040805e9dc47f2f",
       "version_major": 2,
       "version_minor": 0
      },
      "text/plain": [
       "HBox(children=(HTML(value=''), FloatProgress(value=0.0, max=5856.0), HTML(value='')))"
      ]
     },
     "metadata": {},
     "output_type": "display_data"
    },
    {
     "name": "stdout",
     "output_type": "stream",
     "text": [
      "\n"
     ]
    },
    {
     "data": {
      "application/javascript": [
       "\n",
       "            setTimeout(function() {\n",
       "                var nbb_cell_id = 46;\n",
       "                var nbb_unformatted_code = \"def save_image_firebase(image_path, storage):\\n    try:\\n        storage.child(image_path).put(image_path)\\n        return True\\n    except:\\n        return False\\n\\n\\nfor img_path_transformed in tqdm(dataset.full_path_transformed):\\n    # To linux\\n    aux = img_path_transformed.replace(\\\"\\\\\\\\\\\", \\\"/\\\")\\n    save_image_firebase(aux, storage)\";\n",
       "                var nbb_formatted_code = \"def save_image_firebase(image_path, storage):\\n    try:\\n        storage.child(image_path).put(image_path)\\n        return True\\n    except:\\n        return False\\n\\n\\nfor img_path_transformed in tqdm(dataset.full_path_transformed):\\n    # To linux\\n    aux = img_path_transformed.replace(\\\"\\\\\\\\\\\", \\\"/\\\")\\n    save_image_firebase(aux, storage)\";\n",
       "                var nbb_cells = Jupyter.notebook.get_cells();\n",
       "                for (var i = 0; i < nbb_cells.length; ++i) {\n",
       "                    if (nbb_cells[i].input_prompt_number == nbb_cell_id) {\n",
       "                        if (nbb_cells[i].get_text() == nbb_unformatted_code) {\n",
       "                             nbb_cells[i].set_text(nbb_formatted_code);\n",
       "                        }\n",
       "                        break;\n",
       "                    }\n",
       "                }\n",
       "            }, 500);\n",
       "            "
      ],
      "text/plain": [
       "<IPython.core.display.Javascript object>"
      ]
     },
     "metadata": {},
     "output_type": "display_data"
    }
   ],
   "source": [
    "def save_image_firebase(image_path, storage):\n",
    "    try:\n",
    "        storage.child(image_path).put(image_path)\n",
    "        return True\n",
    "    except:\n",
    "        return False\n",
    "\n",
    "\n",
    "for img_path_transformed in tqdm(dataset.full_path_transformed):\n",
    "    # To linux\n",
    "    aux = img_path_transformed.replace(\"\\\\\", \"/\")\n",
    "    save_image_firebase(aux, storage)"
   ]
  }
 ],
 "metadata": {
  "kernelspec": {
   "display_name": "Python 3",
   "language": "python",
   "name": "python3"
  },
  "language_info": {
   "codemirror_mode": {
    "name": "ipython",
    "version": 3
   },
   "file_extension": ".py",
   "mimetype": "text/x-python",
   "name": "python",
   "nbconvert_exporter": "python",
   "pygments_lexer": "ipython3",
   "version": "3.8.5"
  }
 },
 "nbformat": 4,
 "nbformat_minor": 4
}
